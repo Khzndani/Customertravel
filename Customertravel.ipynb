{
  "nbformat": 4,
  "nbformat_minor": 0,
  "metadata": {
    "colab": {
      "provenance": []
    },
    "kernelspec": {
      "name": "python3",
      "display_name": "Python 3"
    },
    "language_info": {
      "name": "python"
    }
  },
  "cells": [
    {
      "cell_type": "code",
      "execution_count": 31,
      "metadata": {
        "id": "jikt-CG58Lhl"
      },
      "outputs": [],
      "source": [
        "import numpy as np\n",
        "import pandas as pd\n",
        "from sklearn.preprocessing import StandardScaler\n",
        "from sklearn.model_selection import train_test_split\n",
        "from sklearn import svm\n",
        "from sklearn.metrics import accuracy_score"
      ]
    },
    {
      "cell_type": "markdown",
      "source": [
        "# Bagian Baru"
      ],
      "metadata": {
        "id": "VS_AIckwIjDd"
      }
    },
    {
      "cell_type": "code",
      "source": [
        "cs_dataset = pd.read_csv('sample_data/Customertravel.csv')"
      ],
      "metadata": {
        "id": "beKq1w_OmOzF"
      },
      "execution_count": 32,
      "outputs": []
    },
    {
      "cell_type": "code",
      "source": [
        "cs_dataset.head()"
      ],
      "metadata": {
        "colab": {
          "base_uri": "https://localhost:8080/",
          "height": 206
        },
        "id": "jGsNsVqqqCdr",
        "outputId": "7af0c05c-e38a-49ed-a2ed-55a9580632df"
      },
      "execution_count": 33,
      "outputs": [
        {
          "output_type": "execute_result",
          "data": {
            "text/plain": [
              "   Age  FrequentFlyer  AnnualIncomeClass  ServicesOpted  \\\n",
              "0   34              0                  2              6   \n",
              "1   34              1                  1              5   \n",
              "2   37              0                  2              3   \n",
              "3   30              0                  2              2   \n",
              "4   30              0                  1              1   \n",
              "\n",
              "   AccountSyncedToSocialMedia  BookedHotelOr0t  Target  \n",
              "0                           0                1       0  \n",
              "1                           1                0       1  \n",
              "2                           1                0       0  \n",
              "3                           0                0       0  \n",
              "4                           0                0       0  "
            ],
            "text/html": [
              "\n",
              "  <div id=\"df-738d13b7-21ae-4b6f-8a75-37f52ff3eff9\">\n",
              "    <div class=\"colab-df-container\">\n",
              "      <div>\n",
              "<style scoped>\n",
              "    .dataframe tbody tr th:only-of-type {\n",
              "        vertical-align: middle;\n",
              "    }\n",
              "\n",
              "    .dataframe tbody tr th {\n",
              "        vertical-align: top;\n",
              "    }\n",
              "\n",
              "    .dataframe thead th {\n",
              "        text-align: right;\n",
              "    }\n",
              "</style>\n",
              "<table border=\"1\" class=\"dataframe\">\n",
              "  <thead>\n",
              "    <tr style=\"text-align: right;\">\n",
              "      <th></th>\n",
              "      <th>Age</th>\n",
              "      <th>FrequentFlyer</th>\n",
              "      <th>AnnualIncomeClass</th>\n",
              "      <th>ServicesOpted</th>\n",
              "      <th>AccountSyncedToSocialMedia</th>\n",
              "      <th>BookedHotelOr0t</th>\n",
              "      <th>Target</th>\n",
              "    </tr>\n",
              "  </thead>\n",
              "  <tbody>\n",
              "    <tr>\n",
              "      <th>0</th>\n",
              "      <td>34</td>\n",
              "      <td>0</td>\n",
              "      <td>2</td>\n",
              "      <td>6</td>\n",
              "      <td>0</td>\n",
              "      <td>1</td>\n",
              "      <td>0</td>\n",
              "    </tr>\n",
              "    <tr>\n",
              "      <th>1</th>\n",
              "      <td>34</td>\n",
              "      <td>1</td>\n",
              "      <td>1</td>\n",
              "      <td>5</td>\n",
              "      <td>1</td>\n",
              "      <td>0</td>\n",
              "      <td>1</td>\n",
              "    </tr>\n",
              "    <tr>\n",
              "      <th>2</th>\n",
              "      <td>37</td>\n",
              "      <td>0</td>\n",
              "      <td>2</td>\n",
              "      <td>3</td>\n",
              "      <td>1</td>\n",
              "      <td>0</td>\n",
              "      <td>0</td>\n",
              "    </tr>\n",
              "    <tr>\n",
              "      <th>3</th>\n",
              "      <td>30</td>\n",
              "      <td>0</td>\n",
              "      <td>2</td>\n",
              "      <td>2</td>\n",
              "      <td>0</td>\n",
              "      <td>0</td>\n",
              "      <td>0</td>\n",
              "    </tr>\n",
              "    <tr>\n",
              "      <th>4</th>\n",
              "      <td>30</td>\n",
              "      <td>0</td>\n",
              "      <td>1</td>\n",
              "      <td>1</td>\n",
              "      <td>0</td>\n",
              "      <td>0</td>\n",
              "      <td>0</td>\n",
              "    </tr>\n",
              "  </tbody>\n",
              "</table>\n",
              "</div>\n",
              "      <button class=\"colab-df-convert\" onclick=\"convertToInteractive('df-738d13b7-21ae-4b6f-8a75-37f52ff3eff9')\"\n",
              "              title=\"Convert this dataframe to an interactive table.\"\n",
              "              style=\"display:none;\">\n",
              "        \n",
              "  <svg xmlns=\"http://www.w3.org/2000/svg\" height=\"24px\"viewBox=\"0 0 24 24\"\n",
              "       width=\"24px\">\n",
              "    <path d=\"M0 0h24v24H0V0z\" fill=\"none\"/>\n",
              "    <path d=\"M18.56 5.44l.94 2.06.94-2.06 2.06-.94-2.06-.94-.94-2.06-.94 2.06-2.06.94zm-11 1L8.5 8.5l.94-2.06 2.06-.94-2.06-.94L8.5 2.5l-.94 2.06-2.06.94zm10 10l.94 2.06.94-2.06 2.06-.94-2.06-.94-.94-2.06-.94 2.06-2.06.94z\"/><path d=\"M17.41 7.96l-1.37-1.37c-.4-.4-.92-.59-1.43-.59-.52 0-1.04.2-1.43.59L10.3 9.45l-7.72 7.72c-.78.78-.78 2.05 0 2.83L4 21.41c.39.39.9.59 1.41.59.51 0 1.02-.2 1.41-.59l7.78-7.78 2.81-2.81c.8-.78.8-2.07 0-2.86zM5.41 20L4 18.59l7.72-7.72 1.47 1.35L5.41 20z\"/>\n",
              "  </svg>\n",
              "      </button>\n",
              "      \n",
              "  <style>\n",
              "    .colab-df-container {\n",
              "      display:flex;\n",
              "      flex-wrap:wrap;\n",
              "      gap: 12px;\n",
              "    }\n",
              "\n",
              "    .colab-df-convert {\n",
              "      background-color: #E8F0FE;\n",
              "      border: none;\n",
              "      border-radius: 50%;\n",
              "      cursor: pointer;\n",
              "      display: none;\n",
              "      fill: #1967D2;\n",
              "      height: 32px;\n",
              "      padding: 0 0 0 0;\n",
              "      width: 32px;\n",
              "    }\n",
              "\n",
              "    .colab-df-convert:hover {\n",
              "      background-color: #E2EBFA;\n",
              "      box-shadow: 0px 1px 2px rgba(60, 64, 67, 0.3), 0px 1px 3px 1px rgba(60, 64, 67, 0.15);\n",
              "      fill: #174EA6;\n",
              "    }\n",
              "\n",
              "    [theme=dark] .colab-df-convert {\n",
              "      background-color: #3B4455;\n",
              "      fill: #D2E3FC;\n",
              "    }\n",
              "\n",
              "    [theme=dark] .colab-df-convert:hover {\n",
              "      background-color: #434B5C;\n",
              "      box-shadow: 0px 1px 3px 1px rgba(0, 0, 0, 0.15);\n",
              "      filter: drop-shadow(0px 1px 2px rgba(0, 0, 0, 0.3));\n",
              "      fill: #FFFFFF;\n",
              "    }\n",
              "  </style>\n",
              "\n",
              "      <script>\n",
              "        const buttonEl =\n",
              "          document.querySelector('#df-738d13b7-21ae-4b6f-8a75-37f52ff3eff9 button.colab-df-convert');\n",
              "        buttonEl.style.display =\n",
              "          google.colab.kernel.accessAllowed ? 'block' : 'none';\n",
              "\n",
              "        async function convertToInteractive(key) {\n",
              "          const element = document.querySelector('#df-738d13b7-21ae-4b6f-8a75-37f52ff3eff9');\n",
              "          const dataTable =\n",
              "            await google.colab.kernel.invokeFunction('convertToInteractive',\n",
              "                                                     [key], {});\n",
              "          if (!dataTable) return;\n",
              "\n",
              "          const docLinkHtml = 'Like what you see? Visit the ' +\n",
              "            '<a target=\"_blank\" href=https://colab.research.google.com/notebooks/data_table.ipynb>data table notebook</a>'\n",
              "            + ' to learn more about interactive tables.';\n",
              "          element.innerHTML = '';\n",
              "          dataTable['output_type'] = 'display_data';\n",
              "          await google.colab.output.renderOutput(dataTable, element);\n",
              "          const docLink = document.createElement('div');\n",
              "          docLink.innerHTML = docLinkHtml;\n",
              "          element.appendChild(docLink);\n",
              "        }\n",
              "      </script>\n",
              "    </div>\n",
              "  </div>\n",
              "  "
            ]
          },
          "metadata": {},
          "execution_count": 33
        }
      ]
    },
    {
      "cell_type": "code",
      "source": [
        "cs_dataset.shape"
      ],
      "metadata": {
        "colab": {
          "base_uri": "https://localhost:8080/"
        },
        "id": "dIawwp5iqZ4i",
        "outputId": "a212b85f-0b42-4eb3-bdb6-edea46d60334"
      },
      "execution_count": 34,
      "outputs": [
        {
          "output_type": "execute_result",
          "data": {
            "text/plain": [
              "(954, 7)"
            ]
          },
          "metadata": {},
          "execution_count": 34
        }
      ]
    },
    {
      "cell_type": "code",
      "source": [
        "# memisahkan data dan label\n",
        "\n",
        "x = cs_dataset.drop (columns='Target', axis=1)\n",
        "y = cs_dataset['Target']"
      ],
      "metadata": {
        "id": "pIX43V4-qjy5"
      },
      "execution_count": 35,
      "outputs": []
    },
    {
      "cell_type": "code",
      "source": [
        "print(x)"
      ],
      "metadata": {
        "colab": {
          "base_uri": "https://localhost:8080/"
        },
        "id": "w2QuTUQgrzHY",
        "outputId": "53996024-a79b-4f59-db1d-b4a314aa30be"
      },
      "execution_count": 36,
      "outputs": [
        {
          "output_type": "stream",
          "name": "stdout",
          "text": [
            "     Age  FrequentFlyer  AnnualIncomeClass  ServicesOpted  \\\n",
            "0     34              0                  2              6   \n",
            "1     34              1                  1              5   \n",
            "2     37              0                  2              3   \n",
            "3     30              0                  2              2   \n",
            "4     30              0                  1              1   \n",
            "..   ...            ...                ...            ...   \n",
            "949   31              1                  1              1   \n",
            "950   30              0                  2              5   \n",
            "951   37              0                  2              4   \n",
            "952   30              0                  1              1   \n",
            "953   31              1                  3              1   \n",
            "\n",
            "     AccountSyncedToSocialMedia  BookedHotelOr0t  \n",
            "0                             0                1  \n",
            "1                             1                0  \n",
            "2                             1                0  \n",
            "3                             0                0  \n",
            "4                             0                0  \n",
            "..                          ...              ...  \n",
            "949                           0                0  \n",
            "950                           0                1  \n",
            "951                           0                0  \n",
            "952                           1                1  \n",
            "953                           0                0  \n",
            "\n",
            "[954 rows x 6 columns]\n"
          ]
        }
      ]
    },
    {
      "cell_type": "code",
      "source": [
        "print(y)"
      ],
      "metadata": {
        "colab": {
          "base_uri": "https://localhost:8080/"
        },
        "id": "Q-k8nIUWr96Y",
        "outputId": "7eea8826-9fdc-4cce-df37-bba9d68bbd10"
      },
      "execution_count": 37,
      "outputs": [
        {
          "output_type": "stream",
          "name": "stdout",
          "text": [
            "0      0\n",
            "1      1\n",
            "2      0\n",
            "3      0\n",
            "4      0\n",
            "      ..\n",
            "949    0\n",
            "950    0\n",
            "951    0\n",
            "952    0\n",
            "953    0\n",
            "Name: Target, Length: 954, dtype: int64\n"
          ]
        }
      ]
    },
    {
      "cell_type": "code",
      "source": [
        "# standarisasi data\n",
        "\n",
        "scaler = StandardScaler() "
      ],
      "metadata": {
        "id": "7vF2FETAsTep"
      },
      "execution_count": 38,
      "outputs": []
    },
    {
      "cell_type": "code",
      "source": [
        "scaler.fit(x)"
      ],
      "metadata": {
        "colab": {
          "base_uri": "https://localhost:8080/"
        },
        "id": "rB52ilRgsqqJ",
        "outputId": "f7998880-a04e-4eb6-ac68-ffd30a5c5aa7"
      },
      "execution_count": 39,
      "outputs": [
        {
          "output_type": "execute_result",
          "data": {
            "text/plain": [
              "StandardScaler()"
            ]
          },
          "metadata": {},
          "execution_count": 39
        }
      ]
    },
    {
      "cell_type": "code",
      "source": [
        "standar_data = scaler.transform(x)"
      ],
      "metadata": {
        "id": "wvJI3HietAVJ"
      },
      "execution_count": 40,
      "outputs": []
    },
    {
      "cell_type": "code",
      "source": [
        "print(standar_data)"
      ],
      "metadata": {
        "colab": {
          "base_uri": "https://localhost:8080/"
        },
        "id": "PL3PK1z2t2U7",
        "outputId": "d42fad07-2f9e-492f-f760-d2f142ee78a4"
      },
      "execution_count": 41,
      "outputs": [
        {
          "output_type": "stream",
          "name": "stdout",
          "text": [
            "[[ 0.56690365 -0.65432692  0.33167822  2.21932995 -0.77849894  1.2344268 ]\n",
            " [ 0.56690365  1.52828804 -1.06224698  1.59642887  1.28452326 -0.81009259]\n",
            " [ 1.46628183 -0.65432692  0.33167822  0.35062671  1.28452326 -0.81009259]\n",
            " ...\n",
            " [ 1.46628183 -0.65432692  0.33167822  0.97352779 -0.77849894 -0.81009259]\n",
            " [-0.63226726 -0.65432692 -1.06224698 -0.89517545  1.28452326  1.2344268 ]\n",
            " [-0.33247453  1.52828804  1.72560341 -0.89517545 -0.77849894 -0.81009259]]\n"
          ]
        }
      ]
    },
    {
      "cell_type": "code",
      "source": [
        "x = standar_data\n",
        "y = cs_dataset['Target']"
      ],
      "metadata": {
        "id": "7x9RWmq_uC6A"
      },
      "execution_count": 42,
      "outputs": []
    },
    {
      "cell_type": "code",
      "source": [
        "print(x)\n",
        "print(y)"
      ],
      "metadata": {
        "colab": {
          "base_uri": "https://localhost:8080/"
        },
        "id": "QQD60GKvuXQp",
        "outputId": "03464bc1-b78c-42b1-b7ab-95a94dd37efb"
      },
      "execution_count": 43,
      "outputs": [
        {
          "output_type": "stream",
          "name": "stdout",
          "text": [
            "[[ 0.56690365 -0.65432692  0.33167822  2.21932995 -0.77849894  1.2344268 ]\n",
            " [ 0.56690365  1.52828804 -1.06224698  1.59642887  1.28452326 -0.81009259]\n",
            " [ 1.46628183 -0.65432692  0.33167822  0.35062671  1.28452326 -0.81009259]\n",
            " ...\n",
            " [ 1.46628183 -0.65432692  0.33167822  0.97352779 -0.77849894 -0.81009259]\n",
            " [-0.63226726 -0.65432692 -1.06224698 -0.89517545  1.28452326  1.2344268 ]\n",
            " [-0.33247453  1.52828804  1.72560341 -0.89517545 -0.77849894 -0.81009259]]\n",
            "0      0\n",
            "1      1\n",
            "2      0\n",
            "3      0\n",
            "4      0\n",
            "      ..\n",
            "949    0\n",
            "950    0\n",
            "951    0\n",
            "952    0\n",
            "953    0\n",
            "Name: Target, Length: 954, dtype: int64\n"
          ]
        }
      ]
    },
    {
      "cell_type": "code",
      "source": [
        "# memisahkan data training dan data testing\n",
        "\n",
        "X_train, X_test, Y_train, Y_test = train_test_split(x, y, test_size= 0.2, stratify=y, random_state=2)"
      ],
      "metadata": {
        "id": "pTlUsLGlutZr"
      },
      "execution_count": 45,
      "outputs": []
    },
    {
      "cell_type": "code",
      "source": [
        "print(x.shape, X_train.shape, X_test.shape) "
      ],
      "metadata": {
        "colab": {
          "base_uri": "https://localhost:8080/"
        },
        "id": "EEtvUrmdvzv2",
        "outputId": "7189188c-0376-4616-f32b-1d313b2cc332"
      },
      "execution_count": 46,
      "outputs": [
        {
          "output_type": "stream",
          "name": "stdout",
          "text": [
            "(954, 6) (763, 6) (191, 6)\n"
          ]
        }
      ]
    },
    {
      "cell_type": "code",
      "source": [
        "# membuat data latih menggunakan algoritma SVM\n",
        "\n",
        "classifier = svm.SVC(kernel='linear')"
      ],
      "metadata": {
        "id": "YqlKN-UxwrNz"
      },
      "execution_count": 47,
      "outputs": []
    },
    {
      "cell_type": "code",
      "source": [
        "classifier.fit(X_train, Y_train)"
      ],
      "metadata": {
        "colab": {
          "base_uri": "https://localhost:8080/"
        },
        "id": "fUFz_txaxPEq",
        "outputId": "bf5f254a-ff79-41e4-e6ca-5ecf7a1578f3"
      },
      "execution_count": 48,
      "outputs": [
        {
          "output_type": "execute_result",
          "data": {
            "text/plain": [
              "SVC(kernel='linear')"
            ]
          },
          "metadata": {},
          "execution_count": 48
        }
      ]
    },
    {
      "cell_type": "code",
      "source": [
        "#membuat evaluasi untuk mengukur tingkat akurasi\n",
        "\n",
        "X_train_predic = classifier.predict(X_train)\n",
        "training_data_accuracy = accuracy_score(X_train_predic, Y_train)"
      ],
      "metadata": {
        "id": "NOVgQs8YxgfH"
      },
      "execution_count": 49,
      "outputs": []
    },
    {
      "cell_type": "code",
      "source": [
        "print('Akurasi data training adalah = ', training_data_accuracy)"
      ],
      "metadata": {
        "colab": {
          "base_uri": "https://localhost:8080/"
        },
        "id": "GaWgFRycyf1h",
        "outputId": "88a8ac9f-fabd-42b3-d373-3e3af735d9c3"
      },
      "execution_count": 50,
      "outputs": [
        {
          "output_type": "stream",
          "name": "stdout",
          "text": [
            "Akurasi data training adalah =  0.8191349934469201\n"
          ]
        }
      ]
    },
    {
      "cell_type": "code",
      "source": [
        "X_test_predic = classifier.predict(X_test)\n",
        "test_data_accuracy = accuracy_score(X_test_predic, Y_test)"
      ],
      "metadata": {
        "id": "fhppnT15yyRK"
      },
      "execution_count": 51,
      "outputs": []
    },
    {
      "cell_type": "code",
      "source": [
        "print('Akurasi data testing adalah = ', test_data_accuracy)"
      ],
      "metadata": {
        "colab": {
          "base_uri": "https://localhost:8080/"
        },
        "id": "CgsRTmKjzbNQ",
        "outputId": "1f8ff315-bf4e-4edd-c49f-acb3e1422a96"
      },
      "execution_count": 52,
      "outputs": [
        {
          "output_type": "stream",
          "name": "stdout",
          "text": [
            "Akurasi data testing adalah =  0.8272251308900523\n"
          ]
        }
      ]
    },
    {
      "cell_type": "code",
      "source": [
        "# membuat model prediksi\n",
        "\n",
        "input_data = (32, 3, 2, 3, 4, 1)\n",
        "\n",
        "input_data_as_numpy_array = np.array(input_data)\n",
        "\n",
        "input_data_reshape = input_data_as_numpy_array.reshape(1,-1)\n",
        "\n",
        "std_data = scaler.transform(input_data_reshape)\n",
        "print(std_data)\n",
        "\n",
        "predic = classifier.predict(std_data)\n",
        "print(predic)\n",
        "\n",
        "if (predic[0] == 0):\n",
        "    print('loyal ')\n",
        "else :\n",
        "    print('churn')"
      ],
      "metadata": {
        "colab": {
          "base_uri": "https://localhost:8080/"
        },
        "id": "EmTuM2jxzpVY",
        "outputId": "6e19d537-4934-4488-c966-a239f52d4bb0"
      },
      "execution_count": 53,
      "outputs": [
        {
          "output_type": "stream",
          "name": "stdout",
          "text": [
            "[[-0.03268181  5.89351795  0.33167822  0.35062671  7.47358986  1.2344268 ]]\n",
            "[1]\n",
            "churn\n"
          ]
        },
        {
          "output_type": "stream",
          "name": "stderr",
          "text": [
            "/usr/local/lib/python3.8/dist-packages/sklearn/base.py:450: UserWarning: X does not have valid feature names, but StandardScaler was fitted with feature names\n",
            "  warnings.warn(\n"
          ]
        }
      ]
    },
    {
      "cell_type": "code",
      "source": [
        "# simpan model\n",
        "\n",
        "import pickle"
      ],
      "metadata": {
        "id": "xMv2utbt25A5"
      },
      "execution_count": 54,
      "outputs": []
    },
    {
      "cell_type": "code",
      "source": [
        "filename = 'customertravel1.sav'\n",
        "pickle.dump(classifier, open(filename,'wb'))"
      ],
      "metadata": {
        "id": "cjJRfXpV3D2Z"
      },
      "execution_count": 55,
      "outputs": []
    },
    {
      "cell_type": "code",
      "source": [],
      "metadata": {
        "id": "uH6CYwvrN6uH"
      },
      "execution_count": null,
      "outputs": []
    }
  ]
}